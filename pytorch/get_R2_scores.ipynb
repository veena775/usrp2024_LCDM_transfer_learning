{
 "cells": [
  {
   "cell_type": "code",
   "execution_count": 1,
   "id": "80fa5c3a-5c95-4638-b290-fd8d69dab295",
   "metadata": {},
   "outputs": [
    {
     "name": "stderr",
     "output_type": "stream",
     "text": [
      "/home/vk9342/.conda/envs/usrp/lib/python3.11/site-packages/tqdm/auto.py:21: TqdmWarning: IProgress not found. Please update jupyter and ipywidgets. See https://ipywidgets.readthedocs.io/en/stable/user_install.html\n",
      "  from .autonotebook import tqdm as notebook_tqdm\n"
     ]
    }
   ],
   "source": [
    "import matplotlib.pyplot as plt\n",
    "import numpy as np\n",
    "from sklearn.metrics import r2_score\n",
    "import optuna\n",
    "import pandas as pd"
   ]
  },
  {
   "cell_type": "code",
   "execution_count": 6,
   "id": "dcabf8dd-8ae1-46a3-85a5-a78e279ca6ec",
   "metadata": {},
   "outputs": [],
   "source": [
    "dataset_names = ['Training', 'Validation', 'Testing']"
   ]
  },
  {
   "cell_type": "code",
   "execution_count": 8,
   "id": "a1abbf83-0788-43a5-9b60-fa3ff9f71b6e",
   "metadata": {},
   "outputs": [
    {
     "name": "stdout",
     "output_type": "stream",
     "text": [
      "R² Scores for just nwLH (MPk) trained:\n",
      "             Ωₘ   Ωᵦ    h   nₛ   σ₈   Mᵥ\n",
      "Training   0.98 0.68 0.76 0.90 0.97 0.57\n",
      "Validation 0.98 0.63 0.74 0.91 0.97 0.62\n",
      "Testing    0.98 0.63 0.74 0.91 0.97 0.62\n"
     ]
    }
   ],
   "source": [
    "### only nwLH trained ###\n",
    "param_names = [r'$\\Omega_m$', r'$\\Omega_b$', r'$h$', \n",
    "           r'$n_s$', r'$\\sigma_8$', r'$M_{\\nu}$']\n",
    "param_names = ['Ωₘ', 'Ωᵦ', 'h', 'nₛ', 'σ₈', 'Mᵥ']\n",
    "\n",
    "minimum = np.array([0.1, 0.02, 0.50, 0.80, 0.60, 0.01])\n",
    "maximum = np.array([0.5, 0.08, 0.90, 1.20, 1.00, 1.0])\n",
    "num_params = 6\n",
    "\n",
    "Pk_type = 'MPk'\n",
    "cosm_type = 'nwLH'\n",
    "name = 'no_transfer_no_log'\n",
    "additional_extension = ''\n",
    "\n",
    "test = np.loadtxt('results/Results_test_'+str(Pk_type)+'_'+str(cosm_type)+'_params_'+str(name)+str(additional_extension)+'.txt')\n",
    "test_true = test[:, :num_params]     # First half (true values)\n",
    "test_predicted = test[:, num_params:]  # Second half (predicted values)\n",
    "\n",
    "train = np.loadtxt('results/Results_train_'+str(Pk_type)+'_'+str(cosm_type)+'_params_'+str(name)+str(additional_extension)+'.txt')\n",
    "train_true = train[:, :num_params]     # First half (true values)\n",
    "train_predicted = train[:, num_params:]\n",
    "\n",
    "valid = np.loadtxt('results/Results_valid_'+str(Pk_type)+'_'+str(cosm_type)+'_params_'+str(name)+str(additional_extension)+'.txt')\n",
    "valid_true = valid[:, :num_params]     # First half (true values)\n",
    "valid_predicted = valid[:, num_params:]\n",
    "\n",
    "# Reverse normalization for predictions\n",
    "test_predicted = test_predicted * (maximum - minimum) + minimum\n",
    "train_predicted = train_predicted * (maximum - minimum) + minimum\n",
    "valid_predicted = valid_predicted * (maximum - minimum) + minimum\n",
    "\n",
    "# Reverse normalization for true values\n",
    "test_true = test_true * (maximum - minimum) + minimum\n",
    "train_true = train_true * (maximum - minimum) + minimum\n",
    "valid_true = valid_true * (maximum - minimum) + minimum\n",
    "\n",
    "datasets = [('Training', train_predicted, train_true), \n",
    "            ('Validation', valid_predicted, valid_true), \n",
    "            ('Testing', test_predicted, test_true)]\n",
    "\n",
    "r2_scores = np.zeros((len(datasets), num_params))\n",
    "for row, (dataset_name, preds, truths) in enumerate(datasets):\n",
    "    for col in range(num_params):\n",
    "        r2 = r2_score(truths[:, col], preds[:, col])\n",
    "        r2_scores[row, col] = r2\n",
    "\n",
    "r2_table = pd.DataFrame(r2_scores, columns=param_names, index=dataset_names)\n",
    "print(\"R² Scores for just nwLH (\" +str(Pk_type)+ \") trained:\")\n",
    "print(r2_table.to_string(float_format=\"{:.2f}\".format))"
   ]
  },
  {
   "cell_type": "code",
   "execution_count": 7,
   "id": "08f45cc0-f839-4cf9-b187-648c3c64dc9d",
   "metadata": {},
   "outputs": [
    {
     "name": "stdout",
     "output_type": "stream",
     "text": [
      "R² Scores for just BSQ (MPk) trained (fhl5):\n",
      "             Ωₘ   Ωᵦ    h   nₛ   σ₈\n",
      "Training   0.95 0.79 0.57 0.87 0.97\n",
      "Validation 0.95 0.79 0.56 0.87 0.97\n",
      "Testing    0.95 0.79 0.56 0.87 0.97\n"
     ]
    }
   ],
   "source": [
    "### trained on LH, fixed final layer 5 ###\n",
    "param_names = [r'$\\Omega_m$', r'$\\Omega_b$', r'$h$', \n",
    "           r'$n_s$', r'$\\sigma_8$']\n",
    "param_names = ['Ωₘ', 'Ωᵦ', 'h', 'nₛ', 'σ₈']\n",
    "\n",
    "# minimum = np.array([0.1, 0.03, 0.50, 0.80, 0.60])\n",
    "# maximum = np.array([0.5, 0.07, 0.90, 1.20, 1.00])\n",
    "\n",
    "#BSQ\n",
    "minimum = np.array([0.1, 0.02, 0.50, 0.80, 0.60])\n",
    "maximum = np.array([0.5, 0.08, 0.90, 1.20, 1.00])\n",
    "\n",
    "num_params = 5\n",
    "\n",
    "Pk_type = 'MPk'\n",
    "cosm_type = 'BSQ'\n",
    "name = 'transfer5_network1_no_log'\n",
    "additional_extension = ''\n",
    "\n",
    "test = np.loadtxt('results/Results_test_'+str(Pk_type)+'_'+str(cosm_type)+'_params_'+str(name)+str(additional_extension)+'.txt')\n",
    "test_true = test[:, :num_params]     # First half (true values)\n",
    "test_predicted = test[:, num_params:]  # Second half (predicted values)\n",
    "\n",
    "train = np.loadtxt('results/Results_train_'+str(Pk_type)+'_'+str(cosm_type)+'_params_'+str(name)+str(additional_extension)+'.txt')\n",
    "train_true = train[:, :num_params]     # First half (true values)\n",
    "train_predicted = train[:, num_params:]\n",
    "\n",
    "valid = np.loadtxt('results/Results_valid_'+str(Pk_type)+'_'+str(cosm_type)+'_params_'+str(name)+str(additional_extension)+'.txt')\n",
    "valid_true = valid[:, :num_params]     # First half (true values)\n",
    "valid_predicted = valid[:, num_params:]\n",
    "\n",
    "# Reverse normalization for predictions\n",
    "test_predicted = test_predicted * (maximum - minimum) + minimum\n",
    "train_predicted = train_predicted * (maximum - minimum) + minimum\n",
    "valid_predicted = valid_predicted * (maximum - minimum) + minimum\n",
    "\n",
    "# Reverse normalization for true values\n",
    "test_true = test_true * (maximum - minimum) + minimum\n",
    "train_true = train_true * (maximum - minimum) + minimum\n",
    "valid_true = valid_true * (maximum - minimum) + minimum\n",
    "\n",
    "\n",
    "\n",
    "datasets = [('Training', train_predicted, train_true), \n",
    "            ('Validation', valid_predicted, valid_true), \n",
    "            ('Testing', test_predicted, test_true)]\n",
    "\n",
    "r2_scores = np.zeros((len(datasets), num_params))\n",
    "for row, (dataset_name, preds, truths) in enumerate(datasets):\n",
    "    for col in range(num_params):\n",
    "        r2 = r2_score(truths[:, col], preds[:, col])\n",
    "        r2_scores[row, col] = r2\n",
    "\n",
    "r2_table = pd.DataFrame(r2_scores, columns=param_names, index=dataset_names)\n",
    "print(\"R² Scores for just BSQ (\" +str(Pk_type)+ \") trained (fhl5):\")\n",
    "print(r2_table.to_string(float_format=\"{:.2f}\".format))"
   ]
  },
  {
   "cell_type": "code",
   "execution_count": 9,
   "id": "6e88fee6-69f2-4cde-a4d5-2944b82a9f60",
   "metadata": {},
   "outputs": [
    {
     "name": "stdout",
     "output_type": "stream",
     "text": [
      "R² Scores nwLH (MPk) from transfer learning (final layer), BSQ:\n",
      "             Ωₘ   Ωᵦ    h   nₛ   σ₈   Mᵥ\n",
      "Training   0.98 0.68 0.76 0.90 0.97 0.57\n",
      "Validation 0.98 0.63 0.74 0.91 0.97 0.62\n",
      "Testing    0.98 0.63 0.74 0.91 0.97 0.62\n"
     ]
    }
   ],
   "source": [
    "### nwLH output after transfer learning ###\n",
    "### only nwLH trained ###\n",
    "param_names = [r'$\\Omega_m$', r'$\\Omega_b$', r'$h$', \n",
    "           r'$n_s$', r'$\\sigma_8$', r'$M_{\\nu}$']\n",
    "param_names = ['Ωₘ', 'Ωᵦ', 'h', 'nₛ', 'σ₈', 'Mᵥ']\n",
    "\n",
    "minimum = np.array([0.1, 0.02, 0.50, 0.80, 0.60, 0.01])\n",
    "maximum = np.array([0.5, 0.08, 0.90, 1.20, 1.00, 1.0])\n",
    "num_params = 6\n",
    "\n",
    "Pk_type = 'MPk'\n",
    "cosm_type = 'nwLH'\n",
    "name = 'transfer5_network2_w_log_test_final_layer_BSQ'\n",
    "additional_extension = ''\n",
    "\n",
    "test = np.loadtxt('results/Results_test_'+str(Pk_type)+'_'+str(cosm_type)+'_params_'+str(name)+str(additional_extension)+'.txt')\n",
    "test_true = test[:, :num_params]     # First half (true values)\n",
    "test_predicted = test[:, num_params:]  # Second half (predicted values)\n",
    "\n",
    "train = np.loadtxt('results/Results_train_'+str(Pk_type)+'_'+str(cosm_type)+'_params_'+str(name)+str(additional_extension)+'.txt')\n",
    "train_true = train[:, :num_params]     # First half (true values)\n",
    "train_predicted = train[:, num_params:]\n",
    "\n",
    "valid = np.loadtxt('results/Results_valid_'+str(Pk_type)+'_'+str(cosm_type)+'_params_'+str(name)+str(additional_extension)+'.txt')\n",
    "valid_true = valid[:, :num_params]     # First half (true values)\n",
    "valid_predicted = valid[:, num_params:]\n",
    "\n",
    "# Reverse normalization for predictions\n",
    "test_predicted = test_predicted * (maximum - minimum) + minimum\n",
    "train_predicted = train_predicted * (maximum - minimum) + minimum\n",
    "valid_predicted = valid_predicted * (maximum - minimum) + minimum\n",
    "\n",
    "# Reverse normalization for true values\n",
    "test_true = test_true * (maximum - minimum) + minimum\n",
    "train_true = train_true * (maximum - minimum) + minimum\n",
    "valid_true = valid_true * (maximum - minimum) + minimum\n",
    "\n",
    "datasets = [('Training', train_predicted, train_true), \n",
    "            ('Validation', valid_predicted, valid_true), \n",
    "            ('Testing', test_predicted, test_true)]\n",
    "\n",
    "r2_scores = np.zeros((len(datasets), num_params))\n",
    "for row, (dataset_name, preds, truths) in enumerate(datasets):\n",
    "    for col in range(num_params):\n",
    "        r2 = r2_score(truths[:, col], preds[:, col])\n",
    "        r2_scores[row, col] = r2\n",
    "\n",
    "r2_table = pd.DataFrame(r2_scores, columns=param_names, index=dataset_names)\n",
    "print(\"R² Scores nwLH (\" +str(Pk_type)+ \") from transfer learning (final layer), BSQ:\")\n",
    "print(r2_table.to_string(float_format=\"{:.2f}\".format))\n",
    "\n",
    "\n"
   ]
  },
  {
   "cell_type": "code",
   "execution_count": null,
   "id": "8f465d53-0b0f-49e1-8ecd-8e3dd14dcb3b",
   "metadata": {},
   "outputs": [],
   "source": []
  },
  {
   "cell_type": "code",
   "execution_count": null,
   "id": "4545db37-4fbb-462b-93ea-21899838180e",
   "metadata": {},
   "outputs": [],
   "source": []
  }
 ],
 "metadata": {
  "kernelspec": {
   "display_name": "Python 3 (ipykernel)",
   "language": "python",
   "name": "python3"
  },
  "language_info": {
   "codemirror_mode": {
    "name": "ipython",
    "version": 3
   },
   "file_extension": ".py",
   "mimetype": "text/x-python",
   "name": "python",
   "nbconvert_exporter": "python",
   "pygments_lexer": "ipython3",
   "version": "3.11.3"
  }
 },
 "nbformat": 4,
 "nbformat_minor": 5
}
